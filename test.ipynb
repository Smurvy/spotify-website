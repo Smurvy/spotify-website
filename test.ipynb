{
 "cells": [
  {
   "cell_type": "code",
   "execution_count": 4,
   "metadata": {},
   "outputs": [
    {
     "ename": "TypeError",
     "evalue": "not a valid non-string sequence or mapping object",
     "output_type": "error",
     "traceback": [
      "\u001b[0;31m---------------------------------------------------------------------------\u001b[0m",
      "\u001b[0;31mTypeError\u001b[0m                                 Traceback (most recent call last)",
      "File \u001b[0;32m/usr/local/Cellar/python@3.11/3.11.7_1/Frameworks/Python.framework/Versions/3.11/lib/python3.11/urllib/parse.py:963\u001b[0m, in \u001b[0;36murlencode\u001b[0;34m(query, doseq, safe, encoding, errors, quote_via)\u001b[0m\n\u001b[1;32m    962\u001b[0m \u001b[38;5;28;01mif\u001b[39;00m \u001b[38;5;28mlen\u001b[39m(query) \u001b[38;5;129;01mand\u001b[39;00m \u001b[38;5;129;01mnot\u001b[39;00m \u001b[38;5;28misinstance\u001b[39m(query[\u001b[38;5;241m0\u001b[39m], \u001b[38;5;28mtuple\u001b[39m):\n\u001b[0;32m--> 963\u001b[0m     \u001b[38;5;28;01mraise\u001b[39;00m \u001b[38;5;167;01mTypeError\u001b[39;00m\n\u001b[1;32m    964\u001b[0m \u001b[38;5;66;03m# Zero-length sequences of all types will get here and succeed,\u001b[39;00m\n\u001b[1;32m    965\u001b[0m \u001b[38;5;66;03m# but that's a minor nit.  Since the original implementation\u001b[39;00m\n\u001b[1;32m    966\u001b[0m \u001b[38;5;66;03m# allowed empty dicts that type of behavior probably should be\u001b[39;00m\n\u001b[1;32m    967\u001b[0m \u001b[38;5;66;03m# preserved for consistency\u001b[39;00m\n",
      "\u001b[0;31mTypeError\u001b[0m: ",
      "\nThe above exception was the direct cause of the following exception:\n",
      "\u001b[0;31mTypeError\u001b[0m                                 Traceback (most recent call last)",
      "Cell \u001b[0;32mIn[4], line 3\u001b[0m\n\u001b[1;32m      1\u001b[0m \u001b[38;5;28;01mimport\u001b[39;00m \u001b[38;5;21;01murllib\u001b[39;00m\n\u001b[0;32m----> 3\u001b[0m encode_url \u001b[38;5;241m=\u001b[39m \u001b[43murllib\u001b[49m\u001b[38;5;241;43m.\u001b[39;49m\u001b[43mparse\u001b[49m\u001b[38;5;241;43m.\u001b[39;49m\u001b[43murlencode\u001b[49m\u001b[43m(\u001b[49m\u001b[38;5;124;43m\"\u001b[39;49m\u001b[38;5;124;43mhttps://open.spotify.com/playlist/37i9dQZEVXcPT2N8xDTnKa?sia77740af499b421a\u001b[39;49m\u001b[38;5;124;43m\"\u001b[39;49m\u001b[43m)\u001b[49m\n",
      "File \u001b[0;32m/usr/local/Cellar/python@3.11/3.11.7_1/Frameworks/Python.framework/Versions/3.11/lib/python3.11/urllib/parse.py:969\u001b[0m, in \u001b[0;36murlencode\u001b[0;34m(query, doseq, safe, encoding, errors, quote_via)\u001b[0m\n\u001b[1;32m    964\u001b[0m         \u001b[38;5;66;03m# Zero-length sequences of all types will get here and succeed,\u001b[39;00m\n\u001b[1;32m    965\u001b[0m         \u001b[38;5;66;03m# but that's a minor nit.  Since the original implementation\u001b[39;00m\n\u001b[1;32m    966\u001b[0m         \u001b[38;5;66;03m# allowed empty dicts that type of behavior probably should be\u001b[39;00m\n\u001b[1;32m    967\u001b[0m         \u001b[38;5;66;03m# preserved for consistency\u001b[39;00m\n\u001b[1;32m    968\u001b[0m     \u001b[38;5;28;01mexcept\u001b[39;00m \u001b[38;5;167;01mTypeError\u001b[39;00m \u001b[38;5;28;01mas\u001b[39;00m err:\n\u001b[0;32m--> 969\u001b[0m         \u001b[38;5;28;01mraise\u001b[39;00m \u001b[38;5;167;01mTypeError\u001b[39;00m(\u001b[38;5;124m\"\u001b[39m\u001b[38;5;124mnot a valid non-string sequence \u001b[39m\u001b[38;5;124m\"\u001b[39m\n\u001b[1;32m    970\u001b[0m                         \u001b[38;5;124m\"\u001b[39m\u001b[38;5;124mor mapping object\u001b[39m\u001b[38;5;124m\"\u001b[39m) \u001b[38;5;28;01mfrom\u001b[39;00m \u001b[38;5;21;01merr\u001b[39;00m\n\u001b[1;32m    972\u001b[0m l \u001b[38;5;241m=\u001b[39m []\n\u001b[1;32m    973\u001b[0m \u001b[38;5;28;01mif\u001b[39;00m \u001b[38;5;129;01mnot\u001b[39;00m doseq:\n",
      "\u001b[0;31mTypeError\u001b[0m: not a valid non-string sequence or mapping object"
     ]
    }
   ],
   "source": [
    "import urllib\n",
    "\n",
    "encode_url = urllib.parse.urlencode(\"https://open.spotify.com/playlist/37i9dQZEVXcPT2N8xDTnKa?sia77740af499b421a\")"
   ]
  }
 ],
 "metadata": {
  "kernelspec": {
   "display_name": "venv",
   "language": "python",
   "name": "python3"
  },
  "language_info": {
   "codemirror_mode": {
    "name": "ipython",
    "version": 3
   },
   "file_extension": ".py",
   "mimetype": "text/x-python",
   "name": "python",
   "nbconvert_exporter": "python",
   "pygments_lexer": "ipython3",
   "version": "3.11.7"
  },
  "orig_nbformat": 4
 },
 "nbformat": 4,
 "nbformat_minor": 2
}
